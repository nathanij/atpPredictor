{
  "nbformat": 4,
  "nbformat_minor": 0,
  "metadata": {
    "colab": {
      "name": "Model Usage.ipynb",
      "provenance": [],
      "authorship_tag": "ABX9TyPu41OqCNfalEPwt8oySOJt",
      "include_colab_link": true
    },
    "kernelspec": {
      "name": "python3",
      "display_name": "Python 3"
    },
    "language_info": {
      "name": "python"
    }
  },
  "cells": [
    {
      "cell_type": "markdown",
      "metadata": {
        "id": "view-in-github",
        "colab_type": "text"
      },
      "source": [
        "<a href=\"https://colab.research.google.com/github/nathanij/atpPredictor/blob/main/Model_Usage.ipynb\" target=\"_parent\"><img src=\"https://colab.research.google.com/assets/colab-badge.svg\" alt=\"Open In Colab\"/></a>"
      ]
    },
    {
      "cell_type": "code",
      "execution_count": null,
      "metadata": {
        "id": "ERt80uwPD0jx"
      },
      "outputs": [],
      "source": [
        "!pip install --upgrade tables\n",
        "import pandas as pd\n",
        "import numpy as np\n",
        "import random\n",
        "import tensorflow as tf\n",
        "from tensorflow.keras import layers\n",
        "from tensorflow.keras.layers.experimental import preprocessing\n",
        "import datetime\n",
        "import h5py\n",
        "from google.colab import drive\n",
        "import keras\n",
        "from keras.utils import np_utils\n",
        "drive.mount('/content/drive')"
      ]
    },
    {
      "cell_type": "markdown",
      "source": [
        "Tournament/Matchup Data\n",
        "\n",
        "(h2h can be found at https://www.atptour.com/en/players/atp-head-2-head/stefanos-tsitsipas-vs-alexander-zverev/TE51/Z355)"
      ],
      "metadata": {
        "id": "kUGVOGbgFF9i"
      }
    },
    {
      "cell_type": "code",
      "source": [
        "#level: 1 for Gs, 2/3 for Masters, 1/3 Davis Cup, 0 else\n",
        "level = 0\n",
        "#surface: 0 for grass/carpet, 0.5 for hard,  1 for clay\n",
        "sur = 0.5\n",
        "#round: 1 - (1/6) for every round away from the final\n",
        "round = 2/3\n",
        "#head-to-head in last 3 years, p0 vs p1\n",
        "h2h = 0.5"
      ],
      "metadata": {
        "id": "77KpqMkqFDSX"
      },
      "execution_count": null,
      "outputs": []
    },
    {
      "cell_type": "markdown",
      "source": [
        "All player stats can be found at https://www.atptour.com/en/players on the specific players' profile\n",
        "\n",
        "52-Week stats can be found at https://www.atptour.com/en/stats/win-loss-index"
      ],
      "metadata": {
        "id": "epgO1qaAKly6"
      }
    },
    {
      "cell_type": "markdown",
      "source": [
        "Player 0 General Statistics"
      ],
      "metadata": {
        "id": "mIVzxi3PJUQ9"
      }
    },
    {
      "cell_type": "code",
      "source": [
        "rank0 = 4\n",
        "#entry 1 qualifier 0 else\n",
        "entry0 = 0\n",
        "age0 = 23\n",
        "ht0 = 193\n",
        "#hand 0 for right 1 else\n",
        "hand0 = 0\n",
        "#forms records for last year\n",
        "form0 = .743\n",
        "sform0 = .711\n",
        "#court time up to match\n",
        "ctime0 = 0\n",
        "#length of previous match in tournament\n",
        "ptime0 = 0"
      ],
      "metadata": {
        "id": "ORQ8cfVhJWEG"
      },
      "execution_count": null,
      "outputs": []
    },
    {
      "cell_type": "markdown",
      "source": [
        "Player 0 Serve Stats"
      ],
      "metadata": {
        "id": "v5jCnEn-LV18"
      }
    },
    {
      "cell_type": "code",
      "source": [
        "#s/df ratio, 1 or 2 mean 1st or 2nd, sv means serve, W win\n",
        "ratio0 = 487/637 \n",
        "firstsv0 = .63\n",
        "firstsvW0 = .76\n",
        "secondsvW0 = .57\n",
        "bpSave0 = .66\n",
        "svGame0 = .88\n",
        "svPt0 = .69"
      ],
      "metadata": {
        "id": "KZjtCvJfLcFW"
      },
      "execution_count": null,
      "outputs": []
    },
    {
      "cell_type": "markdown",
      "source": [
        "Player 0 Return Stats"
      ],
      "metadata": {
        "id": "ikeCCgvQMpmO"
      }
    },
    {
      "cell_type": "code",
      "source": [
        "#ret means return, 1 or 2 means 1st or 2nd\n",
        "firstret0 = .31\n",
        "secondret0 = .51\n",
        "bpConv0 = .43\n",
        "retGame0 = .25\n",
        "retPt0 = .39"
      ],
      "metadata": {
        "id": "2zD1NwFiMrwl"
      },
      "execution_count": null,
      "outputs": []
    },
    {
      "cell_type": "markdown",
      "source": [
        "Player 1 General Stats"
      ],
      "metadata": {
        "id": "DsmbBK7kNT5L"
      }
    },
    {
      "cell_type": "code",
      "source": [
        "rank1 = 13\n",
        "entry1 = 0\n",
        "age1 = 29\n",
        "ht1 = 170\n",
        "hand1 = 0\n",
        "form1 = .623\n",
        "sform1 = .632\n",
        "ctime1 = 61\n",
        "ptime1 = 61"
      ],
      "metadata": {
        "id": "sZgotUTsNWNN"
      },
      "execution_count": null,
      "outputs": []
    },
    {
      "cell_type": "markdown",
      "source": [
        "Player 1 Serve Stats"
      ],
      "metadata": {
        "id": "Ln_tCBHdN6Kc"
      }
    },
    {
      "cell_type": "code",
      "source": [
        "ratio1 = 88/252\n",
        "firstsv1 = .64\n",
        "firstsvW1 = .68\n",
        "secondsvW1 = .5\n",
        "bpSave1 = .59\n",
        "svGame1 = .76\n",
        "svPt1 = .61"
      ],
      "metadata": {
        "id": "s_RoOtQGN7rb"
      },
      "execution_count": null,
      "outputs": []
    },
    {
      "cell_type": "markdown",
      "source": [
        "Player 1 Return Stats"
      ],
      "metadata": {
        "id": "JnrbK881OJ3Q"
      }
    },
    {
      "cell_type": "code",
      "source": [
        "firstret1 = .35\n",
        "secondret1 = .55\n",
        "bpConv1 = .45\n",
        "retGame1 = .34\n",
        "retPt1 = .43"
      ],
      "metadata": {
        "id": "c0gC2AI0OXyV"
      },
      "execution_count": null,
      "outputs": []
    },
    {
      "cell_type": "markdown",
      "source": [
        "Conglomerate into input array"
      ],
      "metadata": {
        "id": "iU7IIDixPiNK"
      }
    },
    {
      "cell_type": "code",
      "source": [
        "inputs = [sur, level, round, h2h, rank0, entry0, age0, ht0, hand0, ctime0,\n",
        "          ptime0, form0, sform0, ratio0, firstsv0, firstsvW0, secondsvW0, bpSave0, svGame0,\n",
        "          svPt0, firstret0, secondret0, bpConv0, retGame0, retPt0, rank1, entry1, age1,\n",
        "          ht1, hand1, ctime1, ptime1, form1, sform1, ratio1, firstsv1, firstsvW1, secondsvW1,\n",
        "          bpSave1, svGame1, svPt1, firstret1, secondret1, bpConv1, retGame1, retPt1]\n",
        "inputs = np.array([inputs])\n",
        "reverse = [sur, level, round, h2h, rank1, entry1, age1,\n",
        "          ht1, hand1, ctime1, ptime1, form1, sform1, ratio1, firstsv1, firstsvW1, secondsvW1,\n",
        "          bpSave1, svGame1, svPt1, firstret1, secondret1, bpConv1, retGame1, retPt1, rank0, entry0, age0, ht0, hand0, ctime0,\n",
        "          ptime0, form0, sform0, ratio0, firstsv0, firstsvW0, secondsvW0, bpSave0, svGame0,\n",
        "          svPt0, firstret0, secondret0, bpConv0, retGame0, retPt0]\n",
        "reverse = np.array([reverse]) #for bias testing"
      ],
      "metadata": {
        "id": "-U6y6uIDOkUn"
      },
      "execution_count": null,
      "outputs": []
    },
    {
      "cell_type": "markdown",
      "source": [
        "Load Models \n",
        "\n",
        "(Personally ran training once and saved best accuracy and loss model from that)"
      ],
      "metadata": {
        "id": "bJpchDkGQ9B2"
      }
    },
    {
      "cell_type": "code",
      "source": [
        "accModel = keras.models.load_model('/content/drive/MyDrive/Models/sixAcc')\n",
        "lossModel = keras.models.load_model('/content/drive/MyDrive/Models/sixLoss')"
      ],
      "metadata": {
        "id": "oPQBr582yq9d"
      },
      "execution_count": null,
      "outputs": []
    },
    {
      "cell_type": "markdown",
      "source": [
        "Get Outputs"
      ],
      "metadata": {
        "id": "mFKd_Gyezusn"
      }
    },
    {
      "cell_type": "code",
      "source": [
        "l1 = lossModel.predict(inputs)\n",
        "a1 = accModel.predict(inputs)"
      ],
      "metadata": {
        "id": "TlG0sCvAzvy2"
      },
      "execution_count": null,
      "outputs": []
    },
    {
      "cell_type": "markdown",
      "source": [
        "Run with stats reversed to account for small model bias"
      ],
      "metadata": {
        "id": "Z1EzaLHpY-JS"
      }
    },
    {
      "cell_type": "code",
      "source": [
        "l2 = lossModel.predict(reverse)\n",
        "a2 = accModel.predict(reverse)"
      ],
      "metadata": {
        "id": "BG4zIBMx9x62"
      },
      "execution_count": null,
      "outputs": []
    },
    {
      "cell_type": "markdown",
      "source": [
        "Take mean of two to get final results"
      ],
      "metadata": {
        "id": "iDI6H97SZCD2"
      }
    },
    {
      "cell_type": "code",
      "source": [
        "p1 = (l1[0][0] + l2[0][0]) / 2\n",
        "adjLoss = [p1, 1 - p1]"
      ],
      "metadata": {
        "id": "mV9-AWyfLzuv"
      },
      "execution_count": null,
      "outputs": []
    },
    {
      "cell_type": "code",
      "source": [
        "p1 = (a1[0][0] + a2[0][0]) / 2\n",
        "adjAcc = [p1, 1-p1]"
      ],
      "metadata": {
        "id": "sC0yOwIYMMNS"
      },
      "execution_count": null,
      "outputs": []
    },
    {
      "cell_type": "markdown",
      "source": [
        "Results!"
      ],
      "metadata": {
        "id": "MXm9iWbbZFn9"
      }
    },
    {
      "cell_type": "code",
      "source": [
        "adjAcc, adjLoss"
      ],
      "metadata": {
        "id": "ei22FiZCMnr7"
      },
      "execution_count": null,
      "outputs": []
    }
  ]
}