{
  "cells": [
    {
      "cell_type": "markdown",
      "metadata": {
        "id": "view-in-github",
        "colab_type": "text"
      },
      "source": [
        "<a href=\"https://colab.research.google.com/github/nathanij/atpPredictor/blob/main/Tennis_Model_Data.ipynb\" target=\"_parent\"><img src=\"https://colab.research.google.com/assets/colab-badge.svg\" alt=\"Open In Colab\"/></a>"
      ]
    },
    {
      "cell_type": "markdown",
      "metadata": {
        "id": "EoZZT1M4ZWq8"
      },
      "source": [
        "Setup"
      ]
    },
    {
      "cell_type": "code",
      "execution_count": null,
      "metadata": {
        "id": "6NKG4u9qFIRe"
      },
      "outputs": [],
      "source": [
        "!pip install --upgrade tables"
      ]
    },
    {
      "cell_type": "code",
      "execution_count": null,
      "metadata": {
        "id": "jy5QpVmKZSsN"
      },
      "outputs": [],
      "source": [
        "import pandas as pd\n",
        "import numpy as np\n",
        "import random\n",
        "from google.colab import drive\n",
        "drive.mount('/content/drive')"
      ]
    },
    {
      "cell_type": "markdown",
      "metadata": {
        "id": "dDfQJqA-ZezD"
      },
      "source": [
        "Import all data since 2010"
      ]
    },
    {
      "cell_type": "code",
      "execution_count": null,
      "metadata": {
        "id": "ZpElNdNiZg2t"
      },
      "outputs": [],
      "source": [
        "!git clone https://github.com/nathanij/atp-data.git\n",
        "filenames = ['/content/atp-data/atp_matches_' + str(year) + '.csv' for year in range(2010,2022)]\n",
        "data = pd.concat([pd.read_csv(file) for file in filenames], ignore_index= True)"
      ]
    },
    {
      "cell_type": "markdown",
      "metadata": {
        "id": "fgn4s61hZ2Z2"
      },
      "source": [
        "Remove unused columns, add index column for accessing simplicity"
      ]
    },
    {
      "cell_type": "code",
      "execution_count": null,
      "metadata": {
        "id": "BJkE6IcaaDXE"
      },
      "outputs": [],
      "source": [
        "drops = ['tourney_name', 'draw_size', 'match_num', 'best_of', 'score']\n",
        "players = ['winner_', 'loser_']\n",
        "attrs = ['name', 'seed', 'ioc', 'rank_points']\n",
        "for d in drops:\n",
        "  data = data.drop(d, axis = 1, )\n",
        "for p in players:\n",
        "  for a in attrs:\n",
        "    data = data.drop(p+a, axis = 1)\n",
        "data.insert(0, 'ind', data.index)"
      ]
    },
    {
      "cell_type": "markdown",
      "metadata": {
        "id": "I3sDHR-Z_zGP"
      },
      "source": [
        "Functions for calculating usable stats from existing info"
      ]
    },
    {
      "cell_type": "code",
      "execution_count": null,
      "metadata": {
        "id": "cwARX42RkmDA"
      },
      "outputs": [],
      "source": [
        "def calcTime(id, row): #calculates time on court\n",
        "  tourney = data.loc[row, 'tourney_id']\n",
        "  ln = len(data)\n",
        "  time = 0\n",
        "  if data.loc[row, 'tourney_date'] // 10000 >= 2019:\n",
        "    match = row + 1\n",
        "    while match < ln and data.loc[match, 'tourney_id'] == tourney:\n",
        "      if data.loc[match, 'winner_id'] == id:\n",
        "        time += data.loc[match, 'minutes']\n",
        "      match += 1\n",
        "    return time\n",
        "  else:\n",
        "    match = row - 1\n",
        "    while match >= 0 and data.loc[match, 'tourney_id'] == tourney:\n",
        "      if data.loc[match, 'winner_id'] == id:\n",
        "        time += data.loc[match, 'minutes']\n",
        "      match -= 1\n",
        "    return time"
      ]
    },
    {
      "cell_type": "code",
      "execution_count": null,
      "metadata": {
        "id": "J8QFsiYxwULu"
      },
      "outputs": [],
      "source": [
        "def withinYears(x, year, month, row): #for calculating if data is applicable (within previous x years)\n",
        "  mDate = data.loc[row, 'tourney_date']\n",
        "  mYear = mDate // 10000\n",
        "  mMonth = (mDate % 10000) // 100\n",
        "  yDif = year - mYear\n",
        "  if yDif <= x - 1:\n",
        "    return True\n",
        "  elif yDif == x and mMonth > month:\n",
        "    return True\n",
        "  return False"
      ]
    },
    {
      "cell_type": "code",
      "execution_count": null,
      "metadata": {
        "id": "u7V5kp6llU1S"
      },
      "outputs": [],
      "source": [
        "#returned arrays are of the following form\n",
        "#serve stats = [svpt, 1stIn, 1stWon, 2ndWon, bpsaved, bpfaced, svGames, ace, df, totalWon, 2ndIn, bplost, svgamesWon]\n",
        "#return stats = [retPt, 1stIn, 1stWon, 2ndWon, bpwon, bpchances, dfs faced, retGames, totalWon, 2ndIn]\n",
        "def calcStats(id, row):\n",
        "  sStat = ['svpt', '1stIn', '1stWon', '2ndWon', 'bpSaved', 'bpFaced', 'SvGms', 'ace', 'df'] #serve stat categories\n",
        "  rStat = ['svpt', '1stIn', '1stWon', '2ndWon', 'bpSaved', 'bpFaced', 'df', 'SvGms']\n",
        "  tourney = data.loc[row, 'tourney_id'] #to make sure current tourney not included\n",
        "  match = row - 1\n",
        "  serveStats = [0] * 13\n",
        "  returnStats = [0] * 10\n",
        "  date = data.loc[row, 'tourney_date']\n",
        "  year = date // 10000\n",
        "  month = (date % 10000) // 100\n",
        "  if year <= 2018:\n",
        "    while match >= 0 and data.loc[match, 'tourney_id'] == tourney:\n",
        "      match -= 1\n",
        "  while match >= 0 and withinYears(1, year, month, match):\n",
        "    if data.loc[match, 'winner_id'] == id:\n",
        "      for i in range(len(sStat)):\n",
        "        s = data.loc[match, 'w_' + sStat[i]]\n",
        "        if not pd.isna(s):\n",
        "          serveStats[i] += s\n",
        "      for j in range(len(rStat)):\n",
        "        s = data.loc[match, 'l_' + rStat[j]]\n",
        "        if not pd.isna(s):\n",
        "          returnStats[j] += s\n",
        "    elif data.loc[match, 'loser_id'] == id:\n",
        "      for i in range(len(rStat)):\n",
        "        s = data.loc[match, 'l_' + sStat[i]]\n",
        "        if not pd.isna(s):\n",
        "          serveStats[i] += s\n",
        "      for j in range(len(rStat)):\n",
        "        s = data.loc[match, 'w_' + rStat[j]]\n",
        "        if not pd.isna(s):\n",
        "          returnStats[j] += s\n",
        "    match -= 1\n",
        "  #fill in extra columns and edit current using relationships\n",
        "  serveStats[9] = serveStats[2] + serveStats[3]\n",
        "  serveStats[10] = serveStats[0] - serveStats[1] - serveStats[8]\n",
        "  serveStats[11] = serveStats[5] - serveStats[4]\n",
        "  serveStats[12] = serveStats[6] - serveStats[11]\n",
        "  returnStats[2] = returnStats[1] - returnStats[2]\n",
        "  returnStats[9] = returnStats[0] - returnStats[1] - returnStats[6]\n",
        "  returnStats[3] = returnStats[9] - returnStats[3]\n",
        "  returnStats[4] = returnStats[5] - returnStats[4]\n",
        "  returnStats[8] = returnStats[2] + returnStats[3]\n",
        "  return (serveStats, returnStats)"
      ]
    },
    {
      "cell_type": "code",
      "execution_count": null,
      "metadata": {
        "id": "-GdCHQx-7JzZ"
      },
      "outputs": [],
      "source": [
        "def tupleDivide(row, player, s, i1, i2): #couldn't figure out how to vectorize with tuples\n",
        "  x = data.loc[row, player+'raw'][s][i2]\n",
        "  if x == 0:\n",
        "    return 0.5\n",
        "  return data.loc[row, player+'raw'][s][i1] / x"
      ]
    },
    {
      "cell_type": "markdown",
      "metadata": {
        "id": "kE68CRB3BHUT"
      },
      "source": [
        "Use functions to make calculations"
      ]
    },
    {
      "cell_type": "code",
      "execution_count": null,
      "metadata": {
        "id": "hakQ09_vllgS"
      },
      "outputs": [],
      "source": [
        "players = ['winner_', 'loser_']\n",
        "sStat = ['svpt', '1stIn', '1stWon', '2ndWon', 'bpSaved', 'bpFaced', 'SvGms', 'ace', 'df']\n",
        "for p in players:\n",
        "  stats = data.apply(lambda x: calcStats(x[p+'id'], x['ind']), axis=1)\n",
        "  data[p+'raw'] = stats\n",
        "for p in players:\n",
        "  data[p+'court_time'] = data.apply(lambda x: calcTime(x[p+'id'], x['ind']), axis=1)\n",
        "  data[p+ 'ratio'] = data.apply(lambda x: tupleDivide(x['ind'], p, 0, 7, 8), axis=1)\n",
        "  data[p+'1stSv%'] = data.apply(lambda x: tupleDivide(x['ind'], p, 0, 1, 0), axis=1)\n",
        "  data[p+'1stSvW%'] = data.apply(lambda x: tupleDivide(x['ind'], p, 0, 2, 1), axis=1)\n",
        "  data[p+'2ndSvW%'] = data.apply(lambda x: tupleDivide(x['ind'], p, 0, 3, 10), axis=1)\n",
        "  data[p+'bpSave%'] = data.apply(lambda x: tupleDivide(x['ind'], p, 0, 4, 5), axis=1)\n",
        "  data[p+'svGam%'] = data.apply(lambda x: tupleDivide(x['ind'], p, 0, 12, 6), axis=1)\n",
        "  data[p+'svPt%'] = data.apply(lambda x: tupleDivide(x['ind'], p, 0, 9, 0), axis=1)\n",
        "  data[p+'1stRet%'] = data.apply(lambda x: tupleDivide(x['ind'], p, 1, 2, 1), axis=1)\n",
        "  data[p+'2ndRet%'] = data.apply(lambda x: tupleDivide(x['ind'], p, 1, 3, 9), axis=1)\n",
        "  data[p+'bpConv%'] = data.apply(lambda x: tupleDivide(x['ind'], p, 1, 4, 5), axis=1)\n",
        "  data[p+'retGam%'] = data.apply(lambda x: tupleDivide(x['ind'], p, 1, 4, 7), axis=1)\n",
        "  data[p+'retPt%'] = data.apply(lambda x: tupleDivide(x['ind'], p, 1, 8, 0), axis=1)"
      ]
    },
    {
      "cell_type": "markdown",
      "metadata": {
        "id": "usAPR3UPBNjx"
      },
      "source": [
        "Drop now unwanted columns"
      ]
    },
    {
      "cell_type": "code",
      "execution_count": null,
      "metadata": {
        "id": "h9I0wOENyWzK"
      },
      "outputs": [],
      "source": [
        "data = data.drop('winner_raw', axis = 1)\n",
        "data = data.drop('loser_raw', axis = 1)\n",
        "plys = ['w_', 'l_']\n",
        "for p in plys:\n",
        "  for s in sStat:\n",
        "    data = data.drop(p+s, axis = 1)\n",
        "data = data.drop('minutes', axis = 1)"
      ]
    },
    {
      "cell_type": "markdown",
      "metadata": {
        "id": "EnUYiEfXBTbp"
      },
      "source": [
        "Save calculations so you can start from here"
      ]
    },
    {
      "cell_type": "code",
      "execution_count": null,
      "metadata": {
        "id": "kpK1yUQBBLRd"
      },
      "outputs": [],
      "source": [
        "data.to_hdf('ptCalc(key=a).h5', key = 'a')\n",
        "!cp ptCalc\\(key\\=a\\).h5 /content/drive/MyDrive/tennisData"
      ]
    },
    {
      "cell_type": "code",
      "execution_count": null,
      "metadata": {
        "id": "r0EeQWWABpJr"
      },
      "outputs": [],
      "source": [
        "data = pd.read_hdf('/content/drive/MyDrive/tennisData/ptCalc(key=a).h5', key = 'a')"
      ]
    },
    {
      "cell_type": "markdown",
      "metadata": {
        "id": "cx_wO6LEDYOX"
      },
      "source": [
        "Functions to calculate current forms and head-to-head"
      ]
    },
    {
      "cell_type": "code",
      "execution_count": null,
      "metadata": {
        "id": "svgW17ENEucv"
      },
      "outputs": [],
      "source": [
        "#calculates overall form and form on a specific surface\n",
        "#for the previous year (at a specific tournament level)\n",
        "#return in form [ovrForm, surForm]\n",
        "def checkForms(id, row):\n",
        "  tourney = data.loc[row, 'tourney_id'] #to make sure current tourney not included\n",
        "  level = data.loc[row, 'tourney_level']\n",
        "  surface = data.loc[row, 'surface']\n",
        "  match = row - 1\n",
        "  date = data.loc[row, 'tourney_date']\n",
        "  year = date // 10000\n",
        "  month = (date % 10000) // 100\n",
        "  if year <= 2018:\n",
        "    while match >= 0 and data.loc[match, 'tourney_id'] == tourney:\n",
        "      match -= 1\n",
        "  win = 0\n",
        "  surWin = 0\n",
        "  count = 0\n",
        "  surCount = 0\n",
        "  while match >= 0 and withinYears(1, year, month, match):\n",
        "    if data.loc[match, 'tourney_level'] == level:\n",
        "      if data.loc[match, 'winner_id'] == id:\n",
        "        count += 1\n",
        "        win += 1\n",
        "        if data.loc[match, 'surface'] == surface:\n",
        "          surCount += 1\n",
        "          surWin += 1\n",
        "      elif data.loc[match, 'loser_id'] ==id:\n",
        "        count += 1\n",
        "        if data.loc[match, 'surface'] == surface:\n",
        "          surCount += 1\n",
        "    match -= 1\n",
        "  if count == 0:\n",
        "    a = 0\n",
        "  else:\n",
        "    a = win / count\n",
        "  if surCount == 0:\n",
        "    b = 0\n",
        "  else:\n",
        "    b = surWin / surCount\n",
        "  return (a, b)"
      ]
    },
    {
      "cell_type": "code",
      "execution_count": null,
      "metadata": {
        "id": "lDx6PNsrES43"
      },
      "outputs": [],
      "source": [
        "def calcH2H(p0, p1, row): #calculates win% for p0 against p1 in last 3 years\n",
        "    tourney = data.loc[row, 'tourney_id'] #to make sure current tourney not included\n",
        "    match = row - 1\n",
        "    date = data.loc[row, 'tourney_date']\n",
        "    year = date // 10000\n",
        "    month = (date % 10000) // 100\n",
        "    count = 0\n",
        "    win = 0\n",
        "    if year <= 2018:\n",
        "      while match >= 0 and data.loc[match, 'tourney_id'] == tourney:\n",
        "        match -= 1\n",
        "    while match >= 0 and withinYears(3, year, month, match):\n",
        "      if p0 == data.loc[match, 'winner_id'] and p1 == data.loc[match, 'loser_id']:\n",
        "        count += 1\n",
        "        win += 1\n",
        "      elif p0 == data.loc[match, 'loser_id'] and p1 == data.loc[match, 'winner_id']:\n",
        "        count += 1\n",
        "      match -= 1\n",
        "    if count == 0:\n",
        "      return 0.5\n",
        "    else:\n",
        "      return win/count"
      ]
    },
    {
      "cell_type": "code",
      "execution_count": null,
      "metadata": {
        "id": "Z1slhnCY2mV_"
      },
      "outputs": [],
      "source": [
        "def seperate(row, player, i): #couldn't figure out how to vectorize with tuples\n",
        "  return data.loc[row, player+'forms'][i]"
      ]
    },
    {
      "cell_type": "markdown",
      "metadata": {
        "id": "HdLDYKwGgeEE"
      },
      "source": [
        "Make the calculations"
      ]
    },
    {
      "cell_type": "code",
      "execution_count": null,
      "metadata": {
        "id": "LUwZ9m4PMUTu"
      },
      "outputs": [],
      "source": [
        "players = ['winner_', 'loser_']\n",
        "for p in players:\n",
        "  data[p+'forms'] = data.apply(lambda x: checkForms(x[p+'id'], x['ind']), axis=1)\n",
        "for p in players:\n",
        "  data[p+'form'] = data.apply(lambda x: seperate(x['ind'], p, 0), axis=1)\n",
        "  data[p+'surForm'] = data.apply(lambda x: seperate(x['ind'], p, 1), axis=1)\n",
        "  data = data.drop(p+'forms', axis = 1)\n",
        "data['h2h'] = data.apply(lambda x: calcH2H(x['winner_id'], x['loser_id'], x['ind']), axis = 1)"
      ]
    },
    {
      "cell_type": "markdown",
      "metadata": {
        "id": "uSqgp2K4Ozl_"
      },
      "source": [
        "Save pre-randomization"
      ]
    },
    {
      "cell_type": "code",
      "execution_count": null,
      "metadata": {
        "id": "MXToQ1iZOvlQ"
      },
      "outputs": [],
      "source": [
        "data.to_hdf('forms(key=a).h5', key = 'a')\n",
        "!cp forms\\(key\\=a\\).h5 /content/drive/MyDrive/tennisData"
      ]
    },
    {
      "cell_type": "code",
      "execution_count": null,
      "metadata": {
        "id": "0gAF1C8gOwR8"
      },
      "outputs": [],
      "source": [
        "data = pd.read_hdf('/content/drive/MyDrive/tennisData/forms(key=a).h5', key = 'a')"
      ]
    },
    {
      "cell_type": "markdown",
      "metadata": {
        "id": "4aFx1OXxEZpU"
      },
      "source": [
        "Randomize winners for training"
      ]
    },
    {
      "cell_type": "code",
      "execution_count": null,
      "metadata": {
        "id": "yqDJCVLlNg2q"
      },
      "outputs": [],
      "source": [
        "att = ['id', 'rank', 'entry', 'age', 'ht', 'hand', 'court_time', 'form', 'surForm',\n",
        "       'ratio', '1stSv%', '1stSvW%', '2ndSvW%', 'bpSave%', 'svGam%', 'svPt%', \n",
        "       '1stRet%', '2ndRet%', 'bpConv%', 'retGam%', 'retPt%']\n",
        "ln = len(data)\n",
        "data['winner'] = [0] * ln\n",
        "pl = ['p0_', 'p1_']\n",
        "for p in pl:\n",
        "  for a in att:\n",
        "    data[p+a] = [0] * ln\n",
        "for row in range(ln):\n",
        "  win = random.randint(0,1)\n",
        "  if win == 0:\n",
        "    for p in att:\n",
        "      data.loc[row, 'p0_'+p] = data.loc[row, 'winner_'+p]\n",
        "      data.loc[row, 'p1_'+p] = data.loc[row, 'loser_'+p]\n",
        "  else:\n",
        "    data.loc[row, 'winner'] = 1\n",
        "    data.loc[row, 'h2h'] = 1 - data.loc[row, 'h2h']\n",
        "    for p in att:\n",
        "      data.loc[row, 'p1_'+p] = data.loc[row, 'winner_'+p]\n",
        "      data.loc[row, 'p0_'+p] = data.loc[row, 'loser_'+p]\n",
        "for p in players:\n",
        "  for a in att:\n",
        "    data = data.drop(p+a, axis = 1)"
      ]
    },
    {
      "cell_type": "markdown",
      "metadata": {
        "id": "WADQb7hvbUYb"
      },
      "source": [
        "Save randomized data"
      ]
    },
    {
      "cell_type": "code",
      "execution_count": null,
      "metadata": {
        "id": "gMKOQxO7bWKT"
      },
      "outputs": [],
      "source": [
        "data.to_hdf('rand(key=a).h5', key = 'a')\n",
        "!cp rand\\(key\\=a\\).h5 /content/drive/MyDrive/tennisData"
      ]
    },
    {
      "cell_type": "code",
      "execution_count": 3,
      "metadata": {
        "id": "e1jxPznvba2O"
      },
      "outputs": [],
      "source": [
        "data = pd.read_hdf('/content/drive/MyDrive/tennisData/rand(key=a).h5', key = 'a')"
      ]
    },
    {
      "cell_type": "markdown",
      "metadata": {
        "id": "JiyxC0pjbhFR"
      },
      "source": [
        "Clean data, convert tangibles to numerals, filter out missing data\n",
        "\n",
        "Functions for cleaning:"
      ]
    },
    {
      "cell_type": "code",
      "execution_count": 5,
      "metadata": {
        "id": "VbXimnv_livx"
      },
      "outputs": [],
      "source": [
        "def cSurface(x): #converts surface to a number, Grass 0, Hard 1, Clay 2\n",
        "  if x == 'Grass':\n",
        "    return 0\n",
        "  elif x == 'Hard':\n",
        "    return 1\n",
        "  return 2"
      ]
    },
    {
      "cell_type": "code",
      "execution_count": 6,
      "metadata": {
        "id": "_k0PQMPqlu7I"
      },
      "outputs": [],
      "source": [
        "def cEntry(x): #qualifier 1, non-qualifier 0 (for fatigue reasons)\n",
        "  if x == 'Q':\n",
        "    return 1\n",
        "  return 0"
      ]
    },
    {
      "cell_type": "code",
      "execution_count": 7,
      "metadata": {
        "id": "N3jL11mrlyNQ"
      },
      "outputs": [],
      "source": [
        "def cHand(x): #0 for right hand, 1 for left\n",
        "  if x == 'R':\n",
        "    return 0\n",
        "  return 1"
      ]
    },
    {
      "cell_type": "code",
      "execution_count": 8,
      "metadata": {
        "id": "dKVod8Bily7g"
      },
      "outputs": [],
      "source": [
        "def cRound(x):\n",
        "  if x == 'R128':\n",
        "    return 1\n",
        "  elif x == 'R64':\n",
        "    return 2\n",
        "  elif x == 'R32':\n",
        "    return 3\n",
        "  elif x == 'R16':\n",
        "    return 4\n",
        "  elif x == 'QF':\n",
        "    return 5\n",
        "  elif x == 'SF':\n",
        "    return 6\n",
        "  else:\n",
        "    return 7"
      ]
    },
    {
      "cell_type": "markdown",
      "source": [
        "Clean"
      ],
      "metadata": {
        "id": "HpcYDfOtIOdN"
      }
    },
    {
      "cell_type": "code",
      "source": [
        "plys = ['p0_', 'p1_']\n",
        "data['surface'] = data['surface'].apply(lambda x: cSurface(x))\n",
        "data['round'] = data['round'].apply(lambda x: cRound(x))\n",
        "for p in plys:\n",
        "  data[p + 'entry'] = data[p + 'entry'].apply(lambda x: cEntry(x))\n",
        "  data[p + 'hand'] = data[p + 'entry'].apply(lambda x: cEntry(x))"
      ],
      "metadata": {
        "id": "ozYbs4TOHHvB"
      },
      "execution_count": 9,
      "outputs": []
    },
    {
      "cell_type": "markdown",
      "source": [
        "Fill in missing data with averages"
      ],
      "metadata": {
        "id": "hk2QIq1rLLKE"
      }
    },
    {
      "cell_type": "code",
      "source": [
        "def fix(data, val): #replace null with desired (normally average) value\n",
        "  if pd.isna(data):\n",
        "    return val\n",
        "  return data"
      ],
      "metadata": {
        "id": "qPJ8DdTGLPQ6"
      },
      "execution_count": 4,
      "outputs": []
    },
    {
      "cell_type": "code",
      "source": [
        "for p in plys:\n",
        "  data[p + 'ht'] = data[p + 'ht'].apply(lambda x: fix(x, 185))\n",
        "  data[p + 'age'] = data[p + 'age'].apply(lambda x: fix(x, 28))\n",
        "  data[p + 'rank'] = data[p + 'rank'].apply(lambda x: fix(x, 2000))"
      ],
      "metadata": {
        "id": "p45oHIhHMnlV"
      },
      "execution_count": 10,
      "outputs": []
    },
    {
      "cell_type": "markdown",
      "source": [
        "Data processing is complete, can save and move to the model building"
      ],
      "metadata": {
        "id": "FjaWidnmNo7p"
      }
    },
    {
      "cell_type": "code",
      "source": [
        "data.to_hdf('finished(key=a).h5', key = 'a')\n",
        "!cp finished\\(key\\=a\\).h5 /content/drive/MyDrive/tennisData"
      ],
      "metadata": {
        "id": "T_XHlaTvNuEK"
      },
      "execution_count": 12,
      "outputs": []
    }
  ],
  "metadata": {
    "colab": {
      "name": "Tennis Model Data.ipynb",
      "provenance": [],
      "authorship_tag": "ABX9TyPxH14hC3b0j2ReWSQlvA9n",
      "include_colab_link": true
    },
    "kernelspec": {
      "display_name": "Python 3",
      "name": "python3"
    },
    "language_info": {
      "name": "python"
    }
  },
  "nbformat": 4,
  "nbformat_minor": 0
}