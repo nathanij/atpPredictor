{
  "nbformat": 4,
  "nbformat_minor": 0,
  "metadata": {
    "colab": {
      "name": "Tennis Model Data.ipynb",
      "provenance": [],
      "authorship_tag": "ABX9TyNzoKNV0ieIR5JIJfpV+Yk3",
      "include_colab_link": true
    },
    "kernelspec": {
      "name": "python3",
      "display_name": "Python 3"
    },
    "language_info": {
      "name": "python"
    }
  },
  "cells": [
    {
      "cell_type": "markdown",
      "metadata": {
        "id": "view-in-github",
        "colab_type": "text"
      },
      "source": [
        "<a href=\"https://colab.research.google.com/github/nathanij/atpPredictor/blob/main/Tennis_Model_Data.ipynb\" target=\"_parent\"><img src=\"https://colab.research.google.com/assets/colab-badge.svg\" alt=\"Open In Colab\"/></a>"
      ]
    },
    {
      "cell_type": "markdown",
      "source": [
        "Setup"
      ],
      "metadata": {
        "id": "EoZZT1M4ZWq8"
      }
    },
    {
      "cell_type": "code",
      "execution_count": null,
      "metadata": {
        "id": "6NKG4u9qFIRe"
      },
      "outputs": [],
      "source": [
        "!pip install --upgrade tables"
      ]
    },
    {
      "cell_type": "code",
      "source": [
        "import pandas as pd\n",
        "import numpy as np\n",
        "import random\n",
        "import tensorflow as tf\n",
        "from tensorflow.keras import layers\n",
        "from tensorflow.keras.layers.experimental import preprocessing\n",
        "import datetime\n",
        "from google.colab import drive\n",
        "drive.mount('/content/drive')"
      ],
      "metadata": {
        "id": "jy5QpVmKZSsN"
      },
      "execution_count": null,
      "outputs": []
    },
    {
      "cell_type": "markdown",
      "source": [
        "Import all data since 2010"
      ],
      "metadata": {
        "id": "dDfQJqA-ZezD"
      }
    },
    {
      "cell_type": "code",
      "source": [
        "!git clone https://github.com/nathanij/atp-data.git\n",
        "filenames = ['/content/atp-data/atp_matches_' + str(year) + '.csv' for year in range(2010,2022)]\n",
        "data = pd.concat([pd.read_csv(file) for file in filenames], ignore_index= True)"
      ],
      "metadata": {
        "id": "ZpElNdNiZg2t"
      },
      "execution_count": null,
      "outputs": []
    },
    {
      "cell_type": "markdown",
      "source": [
        "Remove unused columns, add index column for accessing simplicity"
      ],
      "metadata": {
        "id": "fgn4s61hZ2Z2"
      }
    },
    {
      "cell_type": "code",
      "source": [
        "drops = ['tourney_name', 'draw_size', 'match_num', 'best_of', 'score']\n",
        "players = ['winner_', 'loser_']\n",
        "attrs = ['name', 'seed', 'ioc', 'rank_points']\n",
        "for d in drops:\n",
        "  data = data.drop(d, axis = 1, )\n",
        "for p in players:\n",
        "  for a in attrs:\n",
        "    data = data.drop(p+a, axis = 1)\n",
        "data.insert(0, 'ind', data.index)"
      ],
      "metadata": {
        "id": "BJkE6IcaaDXE"
      },
      "execution_count": 48,
      "outputs": []
    },
    {
      "cell_type": "markdown",
      "source": [
        "Functions for calculating usable stats from existing info"
      ],
      "metadata": {
        "id": "I3sDHR-Z_zGP"
      }
    },
    {
      "cell_type": "code",
      "source": [
        "def calcTime(id, row): #calculates time on court\n",
        "  tourney = data.loc[row, 'tourney_id']\n",
        "  ln = len(data)\n",
        "  time = 0\n",
        "  if data.loc[row, 'tourney_date'] // 10000 >= 2019:\n",
        "    match = row + 1\n",
        "    while match < ln and data.loc[match, 'tourney_id'] == tourney:\n",
        "      if data.loc[match, 'winner_id'] == id:\n",
        "        time += data.loc[match, 'minutes']\n",
        "      match += 1\n",
        "    return time\n",
        "  else:\n",
        "    match = row - 1\n",
        "    while match >= 0 and data.loc[match, 'tourney_id'] == tourney:\n",
        "      if data.loc[match, 'winner_id'] == id:\n",
        "        time += data.loc[match, 'minutes']\n",
        "      match -= 1\n",
        "    return time"
      ],
      "metadata": {
        "id": "cwARX42RkmDA"
      },
      "execution_count": 49,
      "outputs": []
    },
    {
      "cell_type": "code",
      "source": [
        "def withinYears(x, year, month, row): #for calculating if data is applicable (within previous x years)\n",
        "  mDate = data.loc[row, 'tourney_date']\n",
        "  mYear = mDate // 10000\n",
        "  mMonth = (mDate % 10000) // 100\n",
        "  yDif = year - mYear\n",
        "  if yDif <= x - 1:\n",
        "    return True\n",
        "  elif yDif == x and mMonth > month:\n",
        "    return True\n",
        "  return False"
      ],
      "metadata": {
        "id": "J8QFsiYxwULu"
      },
      "execution_count": 22,
      "outputs": []
    },
    {
      "cell_type": "code",
      "source": [
        "#returned arrays are of the following form\n",
        "#serve stats = [svpt, 1stIn, 1stWon, 2ndWon, bpsaved, bpfaced, svGames, ace, df, totalWon, 2ndIn, bplost, svgamesWon]\n",
        "#return stats = [retPt, 1stIn, 1stWon, 2ndWon, bpwon, bpchances, dfs faced, retGames, totalWon, 2ndIn]\n",
        "def calcStats(id, row):\n",
        "  sStat = ['svpt', '1stIn', '1stWon', '2ndWon', 'bpSaved', 'bpFaced', 'SvGms', 'ace', 'df'] #serve stat categories\n",
        "  rStat = ['svpt', '1stIn', '1stWon', '2ndWon', 'bpSaved', 'bpFaced', 'df', 'SvGms']\n",
        "  tourney = data.loc[row, 'tourney_id'] #to make sure current tourney not included\n",
        "  match = row - 1\n",
        "  serveStats = [0] * 13\n",
        "  returnStats = [0] * 10\n",
        "  date = data.loc[row, 'tourney_date']\n",
        "  year = date // 10000\n",
        "  month = (date % 10000) // 100\n",
        "  if year <= 2018:\n",
        "    while match >= 0 and data.loc[match, 'tourney_id'] == tourney:\n",
        "      match -= 1\n",
        "  while match >= 0 and withinYears(1, year, month, match):\n",
        "    if data.loc[match, 'winner_id'] == id:\n",
        "      for i in range(len(sStat)):\n",
        "        s = data.loc[match, 'w_' + sStat[i]]\n",
        "        if not pd.isna(s):\n",
        "          serveStats[i] += s\n",
        "      for j in range(len(rStat)):\n",
        "        s = data.loc[match, 'l_' + rStat[j]]\n",
        "        if not pd.isna(s):\n",
        "          returnStats[j] += s\n",
        "    elif data.loc[match, 'loser_id'] == id:\n",
        "      for i in range(len(rStat)):\n",
        "        s = data.loc[match, 'l_' + sStat[i]]\n",
        "        if not pd.isna(s):\n",
        "          serveStats[i] += s\n",
        "      for j in range(len(rStat)):\n",
        "        s = data.loc[match, 'w_' + rStat[j]]\n",
        "        if not pd.isna(s):\n",
        "          returnStats[j] += s\n",
        "    match -= 1\n",
        "  #fill in extra columns and edit current using relationships\n",
        "  serveStats[9] = serveStats[2] + serveStats[3]\n",
        "  serveStats[10] = serveStats[0] - serveStats[1] - serveStats[8]\n",
        "  serveStats[11] = serveStats[5] - serveStats[4]\n",
        "  serveStats[12] = serveStats[6] - serveStats[11]\n",
        "  returnStats[2] = returnStats[1] - returnStats[2]\n",
        "  returnStats[9] = returnStats[0] - returnStats[1] - returnStats[6]\n",
        "  returnStats[3] = returnStats[9] - returnStats[3]\n",
        "  returnStats[4] = returnStats[5] - returnStats[4]\n",
        "  returnStats[8] = returnStats[2] + returnStats[3]\n",
        "  return (serveStats, returnStats)"
      ],
      "metadata": {
        "id": "u7V5kp6llU1S"
      },
      "execution_count": 53,
      "outputs": []
    },
    {
      "cell_type": "code",
      "source": [
        "def tupleDivide(row, player, s, i1, i2): #couldn't figure out how to vectorize with tuples\n",
        "  x = data.loc[row, player+'raw'][s][i2]\n",
        "  if x == 0:\n",
        "    return 0.5\n",
        "  return data.loc[row, player+'raw'][s][i1] / x"
      ],
      "metadata": {
        "id": "-GdCHQx-7JzZ"
      },
      "execution_count": 82,
      "outputs": []
    },
    {
      "cell_type": "markdown",
      "source": [
        "Use functions to make calculations"
      ],
      "metadata": {
        "id": "kE68CRB3BHUT"
      }
    },
    {
      "cell_type": "code",
      "source": [
        "players = ['winner_', 'loser_']\n",
        "sStat = ['svpt', '1stIn', '1stWon', '2ndWon', 'bpSaved', 'bpFaced', 'SvGms', 'ace', 'df']\n",
        "for p in players:\n",
        "  stats = data.apply(lambda x: calcStats(x[p+'id'], x['ind']), axis=1)\n",
        "  data[p+'raw'] = stats\n",
        "for p in players:\n",
        "  data[p+'court_time'] = data.apply(lambda x: calcTime(x[p+'id'], x['ind']), axis=1)\n",
        "  data[p+ 'ratio'] = data.apply(lambda x: tupleDivide(x['ind'], p, 0, 7, 8), axis=1)\n",
        "  data[p+'1stSv%'] = data.apply(lambda x: tupleDivide(x['ind'], p, 0, 1, 0), axis=1)\n",
        "  data[p+'1stSvW%'] = data.apply(lambda x: tupleDivide(x['ind'], p, 0, 2, 1), axis=1)\n",
        "  data[p+'2ndSvW%'] = data.apply(lambda x: tupleDivide(x['ind'], p, 0, 3, 10), axis=1)\n",
        "  data[p+'bpSave%'] = data.apply(lambda x: tupleDivide(x['ind'], p, 0, 4, 5), axis=1)\n",
        "  data[p+'svGam%'] = data.apply(lambda x: tupleDivide(x['ind'], p, 0, 12, 6), axis=1)\n",
        "  data[p+'svPt%'] = data.apply(lambda x: tupleDivide(x['ind'], p, 0, 9, 0), axis=1)\n",
        "  data[p+'1stRet%'] = data.apply(lambda x: tupleDivide(x['ind'], p, 1, 2, 1), axis=1)\n",
        "  data[p+'2ndRet%'] = data.apply(lambda x: tupleDivide(x['ind'], p, 1, 3, 9), axis=1)\n",
        "  data[p+'bpConv%'] = data.apply(lambda x: tupleDivide(x['ind'], p, 1, 4, 5), axis=1)\n",
        "  data[p+'retGam%'] = data.apply(lambda x: tupleDivide(x['ind'], p, 1, 4, 7), axis=1)\n",
        "  data[p+'retPt%'] = data.apply(lambda x: tupleDivide(x['ind'], p, 1, 8, 0), axis=1)"
      ],
      "metadata": {
        "id": "hakQ09_vllgS"
      },
      "execution_count": 83,
      "outputs": []
    },
    {
      "cell_type": "markdown",
      "source": [
        "Drop now unwanted columns"
      ],
      "metadata": {
        "id": "usAPR3UPBNjx"
      }
    },
    {
      "cell_type": "code",
      "source": [
        "data = data.drop('winner_raw', axis = 1)\n",
        "data = data.drop('loser_raw', axis = 1)\n",
        "plys = ['w_', 'l_']\n",
        "for p in plys:\n",
        "  for s in sStat:\n",
        "    data = data.drop(p+s, axis = 1)\n",
        "data = data.drop('minutes', axis = 1)"
      ],
      "metadata": {
        "id": "h9I0wOENyWzK"
      },
      "execution_count": 84,
      "outputs": []
    },
    {
      "cell_type": "markdown",
      "source": [
        "Save calculations so you can start from here"
      ],
      "metadata": {
        "id": "EnUYiEfXBTbp"
      }
    },
    {
      "cell_type": "code",
      "source": [
        "data.to_hdf('ptCalc(key=a).h5', key = 'a')\n",
        "!cp ptCalc\\(key\\=a\\).h5 /content/drive/MyDrive/tennisData"
      ],
      "metadata": {
        "id": "kpK1yUQBBLRd"
      },
      "execution_count": null,
      "outputs": []
    },
    {
      "cell_type": "code",
      "source": [
        "data = pd.read_hdf('/content/drive/MyDrive/tennisData/ptCalc(key=a).h5', key = 'a')"
      ],
      "metadata": {
        "id": "r0EeQWWABpJr"
      },
      "execution_count": 18,
      "outputs": []
    },
    {
      "cell_type": "markdown",
      "source": [
        "Functions to calculate current forms and head-to-head"
      ],
      "metadata": {
        "id": "cx_wO6LEDYOX"
      }
    },
    {
      "cell_type": "code",
      "source": [
        "#calculates overall form and form on a specific surface\n",
        "#for the previous year (at a specific tournament level)\n",
        "#return in form [ovrForm, surForm]\n",
        "def checkForms(id, row):\n",
        "  tourney = data.loc[row, 'tourney_id'] #to make sure current tourney not included\n",
        "  level = data.loc[row, 'tourney_level']\n",
        "  surface = data.loc[row, 'surface']\n",
        "  match = row - 1\n",
        "  date = data.loc[row, 'tourney_date']\n",
        "  year = date // 10000\n",
        "  month = (date % 10000) // 100\n",
        "  if year <= 2018:\n",
        "    while match >= 0 and data.loc[match, 'tourney_id'] == tourney:\n",
        "      match -= 1\n",
        "  win = 0\n",
        "  surWin = 0\n",
        "  count = 0\n",
        "  surCount = 0\n",
        "  while match >= 0 and withinYears(1, year, month, match):\n",
        "    if data.loc[match, 'tourney_level'] == level:\n",
        "      if data.loc[match, 'winner_id'] == id:\n",
        "        count += 1\n",
        "        win += 1\n",
        "        if data.loc[match, 'surface'] == surface:\n",
        "          surCount += 1\n",
        "          surWin += 1\n",
        "      elif data.loc[match, 'loser_id'] ==id:\n",
        "        count += 1\n",
        "        if data.loc[match, 'surface'] == surface:\n",
        "          surCount += 1\n",
        "      match -= 1\n",
        "  if count == 0:\n",
        "    a = 0\n",
        "  else:\n",
        "    a = win / count\n",
        "  if surCount == 0:\n",
        "    b = 0\n",
        "  else:\n",
        "    b = surWin / surCount\n",
        "  return a, b"
      ],
      "metadata": {
        "id": "svgW17ENEucv"
      },
      "execution_count": 27,
      "outputs": []
    },
    {
      "cell_type": "code",
      "source": [
        "def calcH2H(p0, p1, row): #calculates win% for p0 against p1 in last 3 years\n",
        "    tourney = data.loc[row, 'tourney_id'] #to make sure current tourney not included\n",
        "    match = row - 1\n",
        "    date = data.loc[row, 'tourney_date']\n",
        "    year = date // 10000\n",
        "    month = (date % 10000) // 100\n",
        "    count = 0\n",
        "    win = 0\n",
        "    if year <= 2018:\n",
        "      while match >= 0 and data.loc[match, 'tourney_id'] == tourney:\n",
        "        match -= 1\n",
        "    while match >= 0 and withinYears(3, year, month, match):\n",
        "      if p0 == data.loc[match, 'winner_id'] and p1 == data.loc[match, 'loser_id']:\n",
        "        count += 1\n",
        "        win += 1\n",
        "      elif p0 == data.loc[match, 'loser_id'] and p1 == data.loc[match, 'winner_id']:\n",
        "        count += 1\n",
        "      match -= 1\n",
        "    if count == 0:\n",
        "      return 0.5\n",
        "    else:\n",
        "      return win/count"
      ],
      "metadata": {
        "id": "lDx6PNsrES43"
      },
      "execution_count": null,
      "outputs": []
    },
    {
      "cell_type": "markdown",
      "source": [
        "Make the calculations"
      ],
      "metadata": {
        "id": "HdLDYKwGgeEE"
      }
    },
    {
      "cell_type": "code",
      "source": [
        "players = ['winner_', 'loser_']\n",
        "for p in players:\n",
        "  data[p+'form'], data[p+'surForm'] = data.apply(lambda x: checkForms(x[p+'id'], x['ind']), axis=1)\n",
        "data['h2h'] = data.apply(lambda x: calcH2H(x['winner_id'], x['loser_id'], x['ind']), axis = 1)"
      ],
      "metadata": {
        "id": "LUwZ9m4PMUTu"
      },
      "execution_count": null,
      "outputs": []
    },
    {
      "cell_type": "markdown",
      "source": [
        "Save pre-randomization"
      ],
      "metadata": {
        "id": "uSqgp2K4Ozl_"
      }
    },
    {
      "cell_type": "code",
      "source": [
        "data.to_hdf('forms(key=a).h5', key = 'a')\n",
        "!cp forms\\(key\\=a\\).h5 /content/drive/MyDrive/tennisData"
      ],
      "metadata": {
        "id": "MXToQ1iZOvlQ"
      },
      "execution_count": null,
      "outputs": []
    },
    {
      "cell_type": "code",
      "source": [
        "data = pd.read_hdf('/content/drive/MyDrive/tennisData/forms(key=a).h5', key = 'a')"
      ],
      "metadata": {
        "id": "0gAF1C8gOwR8"
      },
      "execution_count": 25,
      "outputs": []
    },
    {
      "cell_type": "markdown",
      "source": [
        "Randomize winners for training"
      ],
      "metadata": {
        "id": "4aFx1OXxEZpU"
      }
    },
    {
      "cell_type": "code",
      "source": [
        "att = ['id', 'rank', 'entry', 'age', 'ht', 'hand', 'court_time', 'ratio', '1stSv%',\n",
        "       '1stSvW%', '2ndSvW%', 'bpSave%', 'svGam%', 'svPt%', '1stRet%', '2ndRet%', \n",
        "       'bpConv%', 'retGam%', 'retPt%']\n",
        "ln = len(data)\n",
        "data['winner'] = [0] * ln\n",
        "pl = ['p0_', 'p1_']\n",
        "for p in pl:\n",
        "  for a in att:\n",
        "    data[p+a] = [0] * ln\n",
        "for row in range(ln):\n",
        "  win = random.randint(0,1)\n",
        "  if win == 0:\n",
        "    for p in att:\n",
        "      data.loc[row, 'p0_'+p] = data.loc[row, 'winner_'+p]\n",
        "      data.loc[row, 'p1_'+p] = data.loc[row, 'loser_'+p]\n",
        "  else:\n",
        "    data.loc[row, 'winner'] = 1\n",
        "    for p in att:\n",
        "      data.loc[row, 'p1_'+p] = data.loc[row, 'winner_'+p]\n",
        "      data.loc[row, 'p0_'+p] = data.loc[row, 'loser_'+p]\n",
        "for p in players:\n",
        "  for a in att:\n",
        "    data = data.drop(p+a, axis = 1)"
      ],
      "metadata": {
        "id": "yqDJCVLlNg2q"
      },
      "execution_count": null,
      "outputs": []
    },
    {
      "cell_type": "code",
      "source": [
        "data.head()"
      ],
      "metadata": {
        "id": "Cugh3EF6PhYN"
      },
      "execution_count": null,
      "outputs": []
    },
    {
      "cell_type": "markdown",
      "source": [
        "Save randomized data"
      ],
      "metadata": {
        "id": "WADQb7hvbUYb"
      }
    },
    {
      "cell_type": "code",
      "source": [
        "data.to_hdf('rand(key=a).h5', key = 'a')\n",
        "!cp rand\\(key\\=a\\).h5 /content/drive/MyDrive/tennisData"
      ],
      "metadata": {
        "id": "gMKOQxO7bWKT"
      },
      "execution_count": null,
      "outputs": []
    },
    {
      "cell_type": "code",
      "source": [
        "data = pd.read_hdf('/content/drive/MyDrive/tennisData/rand(key=a).h5', key = 'a')"
      ],
      "metadata": {
        "id": "e1jxPznvba2O"
      },
      "execution_count": null,
      "outputs": []
    },
    {
      "cell_type": "markdown",
      "source": [
        "Clean data, convert tangibles to numerals, filter out missing data\n",
        "\n",
        "Functions for cleaning:"
      ],
      "metadata": {
        "id": "JiyxC0pjbhFR"
      }
    },
    {
      "cell_type": "code",
      "source": [
        "def cSurface(x): #converts surface to a number, Grass 0, Hard 1, Clay 2\n",
        "  if x == 'Grass':\n",
        "    return 0\n",
        "  elif x == 'Hard':\n",
        "    return 1\n",
        "  return 2"
      ],
      "metadata": {
        "id": "VbXimnv_livx"
      },
      "execution_count": null,
      "outputs": []
    },
    {
      "cell_type": "code",
      "source": [
        "def cEntry(x): #qualifier 1, non-qualifier 0 (for fatigue reasons)\n",
        "  if x == 'Q':\n",
        "    return 1\n",
        "  return 0"
      ],
      "metadata": {
        "id": "_k0PQMPqlu7I"
      },
      "execution_count": null,
      "outputs": []
    },
    {
      "cell_type": "code",
      "source": [
        "def cHand(x): #0 for right hand, 1 for left\n",
        "  if x == 'R':\n",
        "    return 0\n",
        "  return 1"
      ],
      "metadata": {
        "id": "N3jL11mrlyNQ"
      },
      "execution_count": null,
      "outputs": []
    },
    {
      "cell_type": "code",
      "source": [
        "def cRound(x):\n",
        "  if x == 'R128':\n",
        "    return 1\n",
        "  elif x == 'R64':\n",
        "    return 2\n",
        "  elif x == 'R32':\n",
        "    return 3\n",
        "  elif x == 'R16':\n",
        "    return 4\n",
        "  elif x == 'QF':\n",
        "    return 5\n",
        "  elif x == 'SF':\n",
        "    return 6\n",
        "  else:\n",
        "    return 7"
      ],
      "metadata": {
        "id": "dKVod8Bily7g"
      },
      "execution_count": null,
      "outputs": []
    }
  ]
}